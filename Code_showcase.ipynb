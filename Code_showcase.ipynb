{
 "cells": [
  {
   "cell_type": "code",
   "execution_count": 1,
   "metadata": {},
   "outputs": [],
   "source": [
    "# Import files\n",
    "import pandas as pd\n",
    "from datetime import datetime, timedelta\n",
    "import multiprocessing as mp\n",
    "from functools import partial\n",
    "import csv\n",
    "import numpy as np\n",
    "import matplotlib.pyplot as plt\n",
    "from io import StringIO\n",
    "import time\n",
    "import multiprocessing as mp\n",
    "from functools import partial\n",
    "import copy\n",
    "from decimal import Decimal\n",
    "import matplotlib\n",
    "import seaborn as sns\n",
    "import matplotlib.pyplot as plt\n",
    "import datetime\n",
    "import statistics\n",
    "\n",
    "from datetime import timedelta, datetime\n",
    "import timeit\n",
    "from functools import partial, reduce\n",
    "from sklearn import preprocessing # normalize the data\n",
    "import math\n",
    "from math import ceil"
   ]
  },
  {
   "cell_type": "code",
   "execution_count": 3,
   "metadata": {},
   "outputs": [],
   "source": [
    "# Identidy users who purchased not who did not purchase\n",
    "file = 'Your_file_path'\n",
    "\n",
    "df_A = pd.read_csv(file + 'spendevents.csv')\n",
    "df_B = pd.read_csv(file + 'iaps.csv')\n",
    "\n",
    "df = pd.merge(df_A, df_B, on=['user_id', 'ts'], how='outer')\n",
    "\n",
    "id_purchase = []\n",
    "id_no_purchase = []\n",
    "for k in list(df['user_id'].unique()):\n",
    "    a = 'IAP' in list(df[df['user_id'] == k]['spendtype'])\n",
    "    if a == True:\n",
    "        id_purchase.append(k)\n",
    "    else:\n",
    "        id_no_purchase.append(k)\n",
    "\n"
   ]
  },
  {
   "cell_type": "code",
   "execution_count": 4,
   "metadata": {},
   "outputs": [
    {
     "data": {
      "image/png": "[encoded data removed]",
      "text/plain": [
       "<Figure size 432x288 with 1 Axes>"
      ]
     },
     "metadata": {
      "needs_background": "light"
     },
     "output_type": "display_data"
    },
    {
     "name": "stdout",
     "output_type": "stream",
     "text": [
      "0.0 106.54 16887\n"
     ]
    }
   ],
   "source": [
    "# Analysis of no payers (1): Distribution\n",
    "no_pay_interval = []\n",
    "for idd in id_no_purchase:\n",
    "    test = df[df['user_id'] == idd]\n",
    "    min_t = pd.to_datetime(test['ts'].min())\n",
    "    max_t = pd.to_datetime(test['ts'].max())\n",
    "    diff = max_t - min_t\n",
    "    diff_h = round(diff.total_seconds()/3600, 2)\n",
    "    no_pay_interval.append(diff_h)\n",
    "\n",
    "# fixed bin size\n",
    "plt.hist(no_pay_interval, bins=np.arange(0, 101, 5), alpha=0.5)\n",
    "plt.title('Distribution of No_payers')\n",
    "plt.xlabel('Duration (hour)')\n",
    "plt.ylabel('Number of users (IDs)')\n",
    "plt.show()\n",
    "\n",
    "\n",
    "# median\n",
    "median = round(statistics.median(no_pay_interval), 2)\n",
    "\n",
    "# average\n",
    "n_1 = len(no_pay_interval)\n",
    "  \n",
    "get_sum = sum(no_pay_interval)\n",
    "mean = round(get_sum / n_1, 2)\n",
    "print(median, mean, n_1)"
   ]
  },
  {
   "cell_type": "code",
   "execution_count": 5,
   "metadata": {},
   "outputs": [
    {
     "data": {
      "text/html": [
       "<div>\n",
       "<style scoped>\n",
       "    .dataframe tbody tr th:only-of-type {\n",
       "        vertical-align: middle;\n",
       "    }\n",
       "\n",
       "    .dataframe tbody tr th {\n",
       "        vertical-align: top;\n",
       "    }\n",
       "\n",
       "    .dataframe thead th {\n",
       "        text-align: right;\n",
       "    }\n",
       "</style>\n",
       "<table border=\"1\" class=\"dataframe\">\n",
       "  <thead>\n",
       "    <tr style=\"text-align: right;\">\n",
       "      <th></th>\n",
       "      <th>country</th>\n",
       "      <th>count</th>\n",
       "      <th>mean</th>\n",
       "      <th>median</th>\n",
       "    </tr>\n",
       "  </thead>\n",
       "  <tbody>\n",
       "    <tr>\n",
       "      <th>150</th>\n",
       "      <td>US</td>\n",
       "      <td>8644</td>\n",
       "      <td>108.729295</td>\n",
       "      <td>0.00</td>\n",
       "    </tr>\n",
       "    <tr>\n",
       "      <th>53</th>\n",
       "      <td>GB</td>\n",
       "      <td>1882</td>\n",
       "      <td>126.369979</td>\n",
       "      <td>0.00</td>\n",
       "    </tr>\n",
       "    <tr>\n",
       "      <th>29</th>\n",
       "      <td>CA</td>\n",
       "      <td>762</td>\n",
       "      <td>114.051706</td>\n",
       "      <td>0.00</td>\n",
       "    </tr>\n",
       "    <tr>\n",
       "      <th>11</th>\n",
       "      <td>AU</td>\n",
       "      <td>664</td>\n",
       "      <td>108.752861</td>\n",
       "      <td>0.00</td>\n",
       "    </tr>\n",
       "    <tr>\n",
       "      <th>119</th>\n",
       "      <td>PH</td>\n",
       "      <td>336</td>\n",
       "      <td>138.181875</td>\n",
       "      <td>0.00</td>\n",
       "    </tr>\n",
       "    <tr>\n",
       "      <th>...</th>\n",
       "      <td>...</td>\n",
       "      <td>...</td>\n",
       "      <td>...</td>\n",
       "      <td>...</td>\n",
       "    </tr>\n",
       "    <tr>\n",
       "      <th>111</th>\n",
       "      <td>NI</td>\n",
       "      <td>1</td>\n",
       "      <td>0.000000</td>\n",
       "      <td>0.00</td>\n",
       "    </tr>\n",
       "    <tr>\n",
       "      <th>125</th>\n",
       "      <td>PY</td>\n",
       "      <td>1</td>\n",
       "      <td>0.000000</td>\n",
       "      <td>0.00</td>\n",
       "    </tr>\n",
       "    <tr>\n",
       "      <th>131</th>\n",
       "      <td>SC</td>\n",
       "      <td>1</td>\n",
       "      <td>0.000000</td>\n",
       "      <td>0.00</td>\n",
       "    </tr>\n",
       "    <tr>\n",
       "      <th>136</th>\n",
       "      <td>SL</td>\n",
       "      <td>1</td>\n",
       "      <td>0.000000</td>\n",
       "      <td>0.00</td>\n",
       "    </tr>\n",
       "    <tr>\n",
       "      <th>165</th>\n",
       "      <td>_U</td>\n",
       "      <td>1</td>\n",
       "      <td>25.170000</td>\n",
       "      <td>25.17</td>\n",
       "    </tr>\n",
       "  </tbody>\n",
       "</table>\n",
       "<p>166 rows × 4 columns</p>\n",
       "</div>"
      ],
      "text/plain": [
       "    country  count        mean  median\n",
       "150      US   8644  108.729295    0.00\n",
       "53       GB   1882  126.369979    0.00\n",
       "29       CA    762  114.051706    0.00\n",
       "11       AU    664  108.752861    0.00\n",
       "119      PH    336  138.181875    0.00\n",
       "..      ...    ...         ...     ...\n",
       "111      NI      1    0.000000    0.00\n",
       "125      PY      1    0.000000    0.00\n",
       "131      SC      1    0.000000    0.00\n",
       "136      SL      1    0.000000    0.00\n",
       "165      _U      1   25.170000   25.17\n",
       "\n",
       "[166 rows x 4 columns]"
      ]
     },
     "execution_count": 5,
     "metadata": {},
     "output_type": "execute_result"
    }
   ],
   "source": [
    "# Analysis of no payers (2): attribute\n",
    "no_pay_diff = []\n",
    "for idd in id_no_purchase:\n",
    "    test = df[df['user_id'] == idd]\n",
    "    min_t = pd.to_datetime(test['ts'].min())\n",
    "    max_t = pd.to_datetime(test['ts'].max())\n",
    "    diff = max_t - min_t\n",
    "    diff_h = round(diff.total_seconds()/3600, 2)\n",
    "    no_pay_diff.append(diff_h)\n",
    "\n",
    "data_no_pay = pd.DataFrame(data= {'user_id': id_no_purchase, 'diff_t': no_pay_diff})\n",
    "df_C = pd.read_csv(file + 'users.csv')\n",
    "data_all_nopay = pd.merge(data_no_pay, df_C, on=['user_id'], how='inner')\n",
    "\n",
    "nopay_country =data_all_nopay.groupby('country')['diff_t'].agg(['count','mean', 'median']).reset_index().sort_values(by = 'count', ascending=False)\n",
    "nopay_country"
   ]
  },
  {
   "cell_type": "code",
   "execution_count": 7,
   "metadata": {},
   "outputs": [
    {
     "data": {
      "image/png": "[encoded data removed]",
      "text/plain": [
       "<Figure size 432x288 with 1 Axes>"
      ]
     },
     "metadata": {
      "needs_background": "light"
     },
     "output_type": "display_data"
    },
    {
     "name": "stdout",
     "output_type": "stream",
     "text": [
      "118.16 315.11 1181\n"
     ]
    }
   ],
   "source": [
    "# Analysis of payers (1): Distribution\n",
    "\n",
    "pay_interval = []\n",
    "for idd in id_purchase:\n",
    "    test = df[df['user_id'] == idd]\n",
    "    min_t = pd.to_datetime(test['ts'].min())\n",
    "    max_t = pd.to_datetime(test['ts'].max())\n",
    "    diff = max_t - min_t\n",
    "    diff_h = round(diff.total_seconds()/3600, 2)\n",
    "    pay_interval.append(diff_h)\n",
    "\n",
    "# fixed bin size\n",
    "plt.hist(pay_interval, bins=np.arange(0, 100, 5), alpha=0.5)\n",
    "plt.title('Distribution of Payers')\n",
    "plt.xlabel('Duration (hour)')\n",
    "plt.ylabel('Number of users (IDs)')\n",
    "\n",
    "plt.show()\n",
    "\n",
    "\n",
    "# median\n",
    "median = round(statistics.median(pay_interval), 2)\n",
    "\n",
    "# average\n",
    "n_1 = len(pay_interval)\n",
    "  \n",
    "get_sum = sum(pay_interval)\n",
    "mean = round(get_sum / n_1, 2)\n",
    "print(median, mean, n_1)"
   ]
  },
  {
   "cell_type": "code",
   "execution_count": 8,
   "metadata": {},
   "outputs": [
    {
     "data": {
      "image/png": "[encoded data removed]",
      "text/plain": [
       "<Figure size 432x288 with 1 Axes>"
      ]
     },
     "metadata": {
      "needs_background": "light"
     },
     "output_type": "display_data"
    },
    {
     "name": "stdout",
     "output_type": "stream",
     "text": [
      "10.01 83.23 1181\n"
     ]
    }
   ],
   "source": [
    "# (1) Analysis from first purchase to purchase date: Distribution\n",
    "\n",
    "login_pay_int = []\n",
    "for kj in id_purchase:\n",
    "    test_1 = df[df['user_id'] == kj]\n",
    "    min_login = pd.to_datetime(test_1['ts'].min())\n",
    "    min_purchase = pd.to_datetime(test_1[test_1['spendtype'] == 'IAP']['ts'].min())\n",
    "    diff_1 = min_purchase - min_login\n",
    "    diff_1 = round(diff_1.total_seconds()/3600, 2)\n",
    "    login_pay_int.append(diff_1)\n",
    "    \n",
    "# fixed bin size\n",
    "plt.hist(login_pay_int, bins=np.arange(0, 100, 5), alpha=0.5)\n",
    "plt.title('Random Gaussian data (fixed bin size)')\n",
    "plt.xlabel('variable X (bin size = 5)')\n",
    "plt.ylabel('count')\n",
    "\n",
    "plt.show()\n",
    "\n",
    "# median\n",
    "median = round(statistics.median(login_pay_int), 2)\n",
    "\n",
    "# average\n",
    "n_1 = len(login_pay_int)\n",
    "  \n",
    "get_sum = sum(login_pay_int)\n",
    "mean = round(get_sum / n_1, 2)\n",
    "print(median, mean, n_1)"
   ]
  },
  {
   "cell_type": "code",
   "execution_count": null,
   "metadata": {
    "scrolled": true
   },
   "outputs": [],
   "source": [
    "# (2) Analysis from first purchase to purchase date: Attribute\n",
    "pay_diff = []\n",
    "for kj in id_purchase:\n",
    "    test_1 = df[df['user_id'] == kj]\n",
    "    min_login = pd.to_datetime(test_1['ts'].min())\n",
    "    min_purchase = pd.to_datetime(test_1[test_1['spendtype'] == 'IAP']['ts'].min())\n",
    "    diff_1 = min_purchase - min_login\n",
    "    diff_1 = round(diff_1.total_seconds()/3600, 2)\n",
    "    pay_diff.append(diff_1)\n",
    "\n",
    "data_pay = pd.DataFrame(data= {'user_id': id_purchase, 'diff_t': pay_diff})\n",
    "df_C = pd.read_csv(file + 'users.csv')\n",
    "data_all_pay = pd.merge(data_pay, df_C, on=['user_id'], how='inner')\n",
    "pay_country = data_all_pay.groupby('country')['diff_t'].agg(['count','mean', 'median']).reset_index().sort_values(by = 'count', ascending=False)\n"
   ]
  },
  {
   "cell_type": "code",
   "execution_count": null,
   "metadata": {
    "scrolled": false
   },
   "outputs": [],
   "source": [
    "pay_country5 = pay_country.head(5)\n",
    "\n",
    "fig,ax = plt.subplots(figsize=(6, 4), dpi=100)\n",
    "# make a plot\n",
    "ax.plot(pay_country5.country, pay_country5['median'], color=\"red\", marker=\"o\")\n",
    "# set x-axis label\n",
    "ax.set_xlabel(\"country\",fontsize=14)\n",
    "# set y-axis label\n",
    "ax.set_ylabel(\"median_of_duration_purchase (hour)\",color=\"red\",fontsize=14)\n",
    "\n",
    "ax2=ax.twinx()\n",
    "# make a plot with different y-axis using second axis object\n",
    "ax2.plot(pay_country5.country, pay_country5[\"count\"],color=\"blue\",marker=\"o\")\n",
    "ax2.set_ylabel(\"number_of_user\",color=\"blue\",fontsize=14)\n",
    "plt.show()"
   ]
  },
  {
   "cell_type": "code",
   "execution_count": null,
   "metadata": {},
   "outputs": [],
   "source": []
  }
 ],
 "metadata": {
  "kernelspec": {
   "display_name": "Python 3",
   "language": "python",
   "name": "python3"
  },
  "language_info": {
   "codemirror_mode": {
    "name": "ipython",
    "version": 3
   },
   "file_extension": ".py",
   "mimetype": "text/x-python",
   "name": "python",
   "nbconvert_exporter": "python",
   "pygments_lexer": "ipython3",
   "version": "3.8.5"
  }
 },
 "nbformat": 4,
 "nbformat_minor": 4
}
